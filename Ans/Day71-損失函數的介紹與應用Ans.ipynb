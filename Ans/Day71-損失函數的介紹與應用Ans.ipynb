{
 "cells": [
  {
   "cell_type": "markdown",
   "metadata": {},
   "source": [
    " \n",
    "# 作業目標:\n",
    "1. 藉由固定的 dataset, 來驗證不同loss function\n",
    "2. Dataset 的特性跟我們選用的loss function 對accrancy 的影響\n",
    "\n",
    "# 作業重點:\n",
    "請分別選用 \"MSE\", \"binary _crossentropy\"\n",
    "查看Train/test accurancy and loss rate\n"
   ]
  },
  {
   "cell_type": "markdown",
   "metadata": {},
   "source": [
    "# 導入必要的函數"
   ]
  },
  {
   "cell_type": "code",
   "execution_count": 1,
   "metadata": {},
   "outputs": [
    {
     "name": "stderr",
     "output_type": "stream",
     "text": [
      "Using TensorFlow backend.\n"
     ]
    }
   ],
   "source": [
    "from keras.datasets import cifar10\n",
    "import numpy as np\n",
    "np.random.seed(10)"
   ]
  },
  {
   "cell_type": "markdown",
   "metadata": {},
   "source": [
    "# 資料準備"
   ]
  },
  {
   "cell_type": "code",
   "execution_count": 2,
   "metadata": {},
   "outputs": [],
   "source": [
    "#取得Keras Dataset\n",
    "(x_img_train,y_label_train),(x_img_test,y_label_test)=cifar10.load_data()"
   ]
  },
  {
   "cell_type": "code",
   "execution_count": 3,
   "metadata": {},
   "outputs": [
    {
     "name": "stdout",
     "output_type": "stream",
     "text": [
      "train data: images: (50000, 32, 32, 3)  labels: (50000, 1)\n",
      "test  data: images: (10000, 32, 32, 3)  labels: (10000, 1)\n"
     ]
    }
   ],
   "source": [
    "#確認 CIFAR10 Dataset 資料維度\n",
    "print(\"train data:\",'images:',x_img_train.shape,\n",
    "      \" labels:\",y_label_train.shape) \n",
    "print(\"test  data:\",'images:',x_img_test.shape ,\n",
    "      \" labels:\",y_label_test.shape) "
   ]
  },
  {
   "cell_type": "code",
   "execution_count": 4,
   "metadata": {},
   "outputs": [],
   "source": [
    "#資料正規化\n",
    "x_img_train_normalize = x_img_train.astype('float32') / 255.0\n",
    "x_img_test_normalize = x_img_test.astype('float32') / 255.0"
   ]
  },
  {
   "cell_type": "code",
   "execution_count": 5,
   "metadata": {},
   "outputs": [
    {
     "data": {
      "text/plain": [
       "(10000, 10)"
      ]
     },
     "execution_count": 5,
     "metadata": {},
     "output_type": "execute_result"
    }
   ],
   "source": [
    "#針對Label 做 ONE HOT ENCODE\n",
    "from keras.utils import np_utils\n",
    "y_label_train_OneHot = np_utils.to_categorical(y_label_train)\n",
    "y_label_test_OneHot = np_utils.to_categorical(y_label_test)\n",
    "y_label_test_OneHot.shape"
   ]
  },
  {
   "cell_type": "markdown",
   "metadata": {},
   "source": [
    "# 建立模型"
   ]
  },
  {
   "cell_type": "code",
   "execution_count": 6,
   "metadata": {},
   "outputs": [],
   "source": [
    "from keras.models import Sequential\n",
    "from keras.layers import Dense, Dropout, Activation, Flatten\n",
    "from keras.layers import Conv2D, MaxPooling2D, ZeroPadding2D"
   ]
  },
  {
   "cell_type": "code",
   "execution_count": 7,
   "metadata": {},
   "outputs": [],
   "source": [
    "model = Sequential()"
   ]
  },
  {
   "cell_type": "code",
   "execution_count": 8,
   "metadata": {},
   "outputs": [],
   "source": [
    "#卷積層1"
   ]
  },
  {
   "cell_type": "code",
   "execution_count": 9,
   "metadata": {},
   "outputs": [],
   "source": [
    "model.add(Conv2D(filters=32,kernel_size=(3,3),\n",
    "                 input_shape=(32, 32,3), \n",
    "                 activation='relu', \n",
    "                 padding='same'))"
   ]
  },
  {
   "cell_type": "code",
   "execution_count": 10,
   "metadata": {},
   "outputs": [],
   "source": [
    "model.add(Dropout(rate=0.25))"
   ]
  },
  {
   "cell_type": "code",
   "execution_count": 11,
   "metadata": {},
   "outputs": [],
   "source": [
    "model.add(MaxPooling2D(pool_size=(2, 2)))"
   ]
  },
  {
   "cell_type": "code",
   "execution_count": 12,
   "metadata": {},
   "outputs": [],
   "source": [
    "#卷積層2與池化層2"
   ]
  },
  {
   "cell_type": "code",
   "execution_count": 13,
   "metadata": {},
   "outputs": [],
   "source": [
    "model.add(Conv2D(filters=64, kernel_size=(3, 3), \n",
    "                 activation='relu', padding='same'))"
   ]
  },
  {
   "cell_type": "code",
   "execution_count": 14,
   "metadata": {},
   "outputs": [],
   "source": [
    "model.add(Dropout(0.25))"
   ]
  },
  {
   "cell_type": "code",
   "execution_count": 15,
   "metadata": {},
   "outputs": [],
   "source": [
    "model.add(MaxPooling2D(pool_size=(2, 2)))"
   ]
  },
  {
   "cell_type": "code",
   "execution_count": 16,
   "metadata": {},
   "outputs": [],
   "source": [
    "#建立神經網路(平坦層、隱藏層、輸出層)"
   ]
  },
  {
   "cell_type": "code",
   "execution_count": 17,
   "metadata": {},
   "outputs": [],
   "source": [
    "model.add(Flatten())\n",
    "model.add(Dropout(rate=0.25))"
   ]
  },
  {
   "cell_type": "code",
   "execution_count": 18,
   "metadata": {},
   "outputs": [],
   "source": [
    "model.add(Dense(1024, activation='relu'))\n",
    "model.add(Dropout(rate=0.25))"
   ]
  },
  {
   "cell_type": "code",
   "execution_count": 19,
   "metadata": {},
   "outputs": [],
   "source": [
    "model.add(Dense(10, activation='softmax'))"
   ]
  },
  {
   "cell_type": "code",
   "execution_count": 20,
   "metadata": {},
   "outputs": [
    {
     "name": "stdout",
     "output_type": "stream",
     "text": [
      "_________________________________________________________________\n",
      "Layer (type)                 Output Shape              Param #   \n",
      "=================================================================\n",
      "conv2d_1 (Conv2D)            (None, 32, 32, 32)        896       \n",
      "_________________________________________________________________\n",
      "dropout_1 (Dropout)          (None, 32, 32, 32)        0         \n",
      "_________________________________________________________________\n",
      "max_pooling2d_1 (MaxPooling2 (None, 16, 16, 32)        0         \n",
      "_________________________________________________________________\n",
      "conv2d_2 (Conv2D)            (None, 16, 16, 64)        18496     \n",
      "_________________________________________________________________\n",
      "dropout_2 (Dropout)          (None, 16, 16, 64)        0         \n",
      "_________________________________________________________________\n",
      "max_pooling2d_2 (MaxPooling2 (None, 8, 8, 64)          0         \n",
      "_________________________________________________________________\n",
      "flatten_1 (Flatten)          (None, 4096)              0         \n",
      "_________________________________________________________________\n",
      "dropout_3 (Dropout)          (None, 4096)              0         \n",
      "_________________________________________________________________\n",
      "dense_1 (Dense)              (None, 1024)              4195328   \n",
      "_________________________________________________________________\n",
      "dropout_4 (Dropout)          (None, 1024)              0         \n",
      "_________________________________________________________________\n",
      "dense_2 (Dense)              (None, 10)                10250     \n",
      "=================================================================\n",
      "Total params: 4,224,970\n",
      "Trainable params: 4,224,970\n",
      "Non-trainable params: 0\n",
      "_________________________________________________________________\n",
      "None\n"
     ]
    }
   ],
   "source": [
    "#檢查model 的STACK\n",
    "print(model.summary())"
   ]
  },
  {
   "cell_type": "markdown",
   "metadata": {},
   "source": [
    "# 載入之前訓練的模型"
   ]
  },
  {
   "cell_type": "code",
   "execution_count": 21,
   "metadata": {},
   "outputs": [
    {
     "name": "stdout",
     "output_type": "stream",
     "text": [
      "載入模型失敗!開始訓練一個新模型\n"
     ]
    }
   ],
   "source": [
    "try:\n",
    "    model.load_weights(\"SaveModel/cifarCnnModel.h5\")\n",
    "    print(\"載入模型成功!繼續訓練模型\")\n",
    "except :    \n",
    "    print(\"載入模型失敗!開始訓練一個新模型\")"
   ]
  },
  {
   "cell_type": "markdown",
   "metadata": {},
   "source": [
    "# 訓練模型"
   ]
  },
  {
   "cell_type": "code",
   "execution_count": 48,
   "metadata": {},
   "outputs": [],
   "source": [
    "from keras import losses\n",
    "\n",
    "#model.compile(loss='categorical_crossentropy',optimizer='sgd', metrics=['accuracy'])\n",
    "\n",
    "'''\n",
    "作業解答:\n",
    "請分別選用 \"MSE\", \"binary _crossentropy\"\n",
    "查看Train/test accurancy and loss rate\n",
    "'''\n",
    "\n",
    "model.compile(loss='binary_crossentropy',optimizer='sgd', metrics=['accuracy'])\n",
    "\n",
    "#model.compile(loss='mean_squared_error',optimizer='sgd', metrics=['accuracy'])\n"
   ]
  },
  {
   "cell_type": "code",
   "execution_count": 49,
   "metadata": {
    "scrolled": true
   },
   "outputs": [
    {
     "name": "stdout",
     "output_type": "stream",
     "text": [
      "Train on 40000 samples, validate on 10000 samples\n",
      "Epoch 1/10\n",
      "40000/40000 [==============================] - 43s 1ms/step - loss: 0.0378 - acc: 0.9863 - val_loss: 0.1322 - val_acc: 0.9521TA: 27s -  - ETA: 13s - loss: 0.0388 - acc: 0. - ETA: 10s - - ETA: 9s - loss: 0 - ETA: 8s - loss: 0.0381 -  - ETA: 7s - loss: 0.0380 - ETA: 6s - loss: 0.0380 - acc:  - ETA: 6s - loss:  - ETA: 4s - loss: 0.0378 - ac - ETA: 1s - loss: 0.0380 - a - ETA: 1s - loss: 0.0378 - acc: 0.9 - ETA: 0s - loss: 0.0378 - acc - ETA: 0s - loss: 0.0378 - acc: 0. - ETA: 0s - loss: 0.0378 - acc: 0.9\n",
      "Epoch 2/10\n",
      "40000/40000 [==============================] - 42s 1ms/step - loss: 0.0342 - acc: 0.9872 - val_loss: 0.1331 - val_acc: 0.9515A: 39s - loss: 0.0478 - acc - ETA: 38s - loss: 0.0418 - acc: 0.98 - ETA: 38s - loss: 0.0408 - acc:  - ETA: 38s - loss: 0. - ETA:  - ETA: 34s - loss:  - ETA: 33s - lo - ETA: 33s  - ETA: 32 - ETA: 31s - loss: 0. - ETA: 30s - loss: 0.0350 - acc:  - ETA - ETA: 22s - loss: 0.03 - - ETA: 18s - loss: 0.0346 - - ETA: 17s - loss: 0.0345 - a - ETA: 17s - loss: 0. - ETA: 16s  - ETA: 15s - loss: 0.0342 - - ETA: 15s - loss: 0.03 - ETA: 15s - loss - ETA: 13s - loss: 0.0344 - - ETA: 10s - loss: 0.03 - ETA: 9s - loss: 0.0344 - E - ETA: 6s -  - ETA: 5s - loss: 0.0343 -   - \n",
      "Epoch 3/10\n",
      "40000/40000 [==============================] - 42s 1ms/step - loss: 0.0324 - acc: 0.9880 - val_loss: 0.1306 - val_acc: 0.95236 - acc:  - ETA: 33s -  - ETA: 13s - loss: 0.0318 - a - ETA: 13s - loss: 0.0319 - ETA: 12 - ETA: 11s - loss: 0.0320 - acc: 0. - ETA:  - ETA: 10s - loss: 0.0321 - acc - ETA: 10s - loss: 0.0322 - ETA: 10s - loss: 0 - ETA: 9s - loss: 0.03 - ETA: 8s - loss: 0.0322  - ETA: 7s - loss: 0.0 - ETA: 6s - loss: 0.0323 - acc:  - ETA: 5s - loss: 0.0323 - acc: 0.98 - ETA: 5s - loss: 0.0 - ETA: 4s - loss: 0.0321 - acc:  - ETA: 4s - loss: 0.0321 - acc: 0.98 - ETA: 4s \n",
      "Epoch 4/10\n",
      "40000/40000 [==============================] - 43s 1ms/step - loss: 0.0308 - acc: 0.9888 - val_loss: 0.1306 - val_acc: 0.9525 25s - loss: 0.0315 - - ETA: 24s -  - ETA: 23s -  - ETA: 21s  - ETA: 20s - loss: 0.0307 - acc: 0. - E - ETA: 13s - loss: 0.0303 - acc: 0.98 - ETA: 12s -  - ETA: 11s - loss: 0.03 - ETA: 10s - loss: 0.0306 - acc - ETA: 10s - loss: 0.0306 - a - ETA:  - ETA: 5 - ETA: 4s\n",
      "Epoch 5/10\n",
      "40000/40000 [==============================] - 43s 1ms/step - loss: 0.0303 - acc: 0.9889 - val_loss: 0.1287 - val_acc: 0.9532 7s - loss: 0.0299 - ETA: 3s - loss: 0.0300 -  - ETA: 3s - loss: 0.0301 - acc: 0.98 - ETA: 2s - loss: 0.0302  - ETA: 2s - loss: 0.0301 - a - ETA: 1s - lo\n",
      "Epoch 6/10\n",
      "40000/40000 [==============================] - 43s 1ms/step - loss: 0.0296 - acc: 0.9893 - val_loss: 0.1296 - val_acc: 0.9527\n",
      "Epoch 7/10\n",
      "40000/40000 [==============================] - 43s 1ms/step - loss: 0.0280 - acc: 0.9896 - val_loss: 0.1292 - val_acc: 0.9536 35s - loss: 0.0301 - acc:  - ETA: 35s - lo - ETA: 33s - loss: 0. - ETA: 32s - loss: 0.0291 - acc: 0. - - E - ETA: 27s -  - ETA: 16s - loss: 0.0285 - acc - ETA - ETA: - ETA: 1s - loss: 0.0279  - ETA: 0s - loss: 0.0279 - acc\n",
      "Epoch 8/10\n",
      "40000/40000 [==============================] - 44s 1ms/step - loss: 0.0288 - acc: 0.9895 - val_loss: 0.1291 - val_acc: 0.9532loss - ETA: 5s - loss: 0.0287 - acc:  - ETA: 5s - - ETA: 3s - loss: 0 - ETA: 0s - loss: 0.0288 - acc: 0.98\n",
      "Epoch 9/10\n",
      "40000/40000 [==============================] - 44s 1ms/step - loss: 0.0283 - acc: 0.9896 - val_loss: 0.1309 - val_acc: 0.9529\n",
      "Epoch 10/10\n",
      "40000/40000 [==============================] - 44s 1ms/step - loss: 0.0261 - acc: 0.9905 - val_loss: 0.1309 - val_acc: 0.9529\n"
     ]
    }
   ],
   "source": [
    "train_history=model.fit(x_img_train_normalize, y_label_train_OneHot,\n",
    "                        validation_split=0.2,\n",
    "                        epochs=10, batch_size=16, verbose=1)          "
   ]
  },
  {
   "cell_type": "code",
   "execution_count": 50,
   "metadata": {},
   "outputs": [],
   "source": [
    "import matplotlib.pyplot as plt\n",
    "def show_train_history(train_acc,test_acc):\n",
    "    plt.plot(train_history.history[train_acc])\n",
    "    plt.plot(train_history.history[test_acc])\n",
    "    plt.title('Train History')\n",
    "    plt.ylabel('Accuracy')\n",
    "    plt.xlabel('Epoch')\n",
    "    plt.legend(['train', 'test'], loc='upper left')\n",
    "    plt.show()"
   ]
  },
  {
   "cell_type": "code",
   "execution_count": 51,
   "metadata": {},
   "outputs": [
    {
     "data": {
      "image/png": "[encoded data removed]",
      "text/plain": [
       "<Figure size 432x288 with 1 Axes>"
      ]
     },
     "metadata": {
      "needs_background": "light"
     },
     "output_type": "display_data"
    }
   ],
   "source": [
    "show_train_history('acc','val_acc')"
   ]
  },
  {
   "cell_type": "code",
   "execution_count": 52,
   "metadata": {},
   "outputs": [
    {
     "data": {
      "image/png": "[encoded data removed]",
      "text/plain": [
       "<Figure size 432x288 with 1 Axes>"
      ]
     },
     "metadata": {
      "needs_background": "light"
     },
     "output_type": "display_data"
    }
   ],
   "source": [
    "show_train_history('loss','val_loss')"
   ]
  },
  {
   "cell_type": "code",
   "execution_count": null,
   "metadata": {},
   "outputs": [],
   "source": []
  }
 ],
 "metadata": {
  "anaconda-cloud": {},
  "kernelspec": {
   "display_name": "Python 3",
   "language": "python",
   "name": "python3"
  },
  "language_info": {
   "codemirror_mode": {
    "name": "ipython",
    "version": 3
   },
   "file_extension": ".py",
   "mimetype": "text/x-python",
   "name": "python",
   "nbconvert_exporter": "python",
   "pygments_lexer": "ipython3",
   "version": "3.7.0"
  }
 },
 "nbformat": 4,
 "nbformat_minor": 1
}
