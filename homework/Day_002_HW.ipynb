{
 "cells": [
  {
   "cell_type": "markdown",
   "metadata": {},
   "source": [
    "## [作業目標]\n",
    "了解機器學習適合應用的領域與範疇。"
   ]
  },
  {
   "cell_type": "markdown",
   "metadata": {},
   "source": [
    "## [作業重點]\n",
    "透過瞭解機器學習的運作方式，找出非常適用機器學習應用的領域及其原因"
   ]
  },
  {
   "cell_type": "markdown",
   "metadata": {},
   "source": [
    "## 作業\n",
    "請找出一個你認為機器學習可以發光發熱的領域並闡述原因? "
   ]
  },
  {
   "cell_type": "markdown",
   "metadata": {},
   "source": [
    "近期，我都參加AI的相關研討會，聊到很多AI各式各樣的應用，例如:醫學影像、心理研究、健康照顧、睡眠床...)，其中我對醫學影像特別感興趣，像是我現在所接觸得案子，其中有位癌症醫師想用強化式學習來幫忙他看一張X光照片，看有沒有病變的區塊，那AI用在影像能真正幫到我們什麼呢? 你想想有一顆綠豆在盤中，「恩...有一顆綠豆~~ 」，那如果又多丟一把的各花色的豆子，「 挖哩~等我，我一個個算一下綠豆有幾顆」，這時影像的辨識就相當方便找出綠豆有幾顆，影像可以數據化，他會去找綠豆的形狀，找出可能的綠豆，為麼說可能呢? 因為有時候他會誤判旁邊的有顆黑豆也分辨進去了，所以可以搭配強化式的學習，反覆去分辨對的豆子就加分，錯了就扣分，讓機器人自己去學習如何獲取高分，而不是給他答案，找出答案在哪。"
   ]
  },
  {
   "cell_type": "markdown",
   "metadata": {},
   "source": []
  },
  {
   "cell_type": "markdown",
   "metadata": {},
   "source": []
  },
  {
   "cell_type": "markdown",
   "metadata": {},
   "source": []
  }
 ],
 "metadata": {
  "kernelspec": {
   "display_name": "Python 3",
   "language": "python",
   "name": "python3"
  },
  "language_info": {
   "codemirror_mode": {
    "name": "ipython",
    "version": 3
   },
   "file_extension": ".py",
   "mimetype": "text/x-python",
   "name": "python",
   "nbconvert_exporter": "python",
   "pygments_lexer": "ipython3",
   "version": "3.6.4"
  }
 },
 "nbformat": 4,
 "nbformat_minor": 2
}
