{
 "cells": [
  {
   "cell_type": "code",
   "execution_count": 31,
   "metadata": {},
   "outputs": [
    {
     "name": "stderr",
     "output_type": "stream",
     "text": [
      "C:\\Users\\USER\\Anaconda3\\lib\\site-packages\\numpy\\lib\\arraysetops.py:466: FutureWarning: elementwise comparison failed; returning scalar instead, but in the future will perform elementwise comparison\n",
      "  mask |= (ar1 == a)\n"
     ]
    }
   ],
   "source": [
    "import csv\n",
    "import pandas as pd\n",
    "import numpy as np\n",
    "import datetime # datetime會用到\n",
    "import matplotlib.pyplot as plt #畫圖用到\n",
    "from pandas import DataFrame \n",
    "\n",
    "\n",
    "#Unnamed:0,交易日期,交易金額,會員名稱,會員編號,營業點,營業點名稱\n",
    "file = '20070311-20190731.csv'\n",
    "df = pd.read_csv(file,index_col=0, low_memory=False)\n",
    "DataFrame = DataFrame(df,columns = ['交易日期','會員編號']) #抓那兩種，放到DataFrame\n",
    "\n",
    "DataFrame.drop_duplicates(DataFrame,inplace=True) #刪除兩種都重複資料\n",
    "DataFrame = DataFrame.dropna() #刪 NaN\n",
    "DataFrame = DataFrame.sort_values(by=['會員編號','交易日期'],ascending=[True,True]) #資料排序依照會員編號小到大，再排日期由小到大(太神啦!!)\n",
    "DataFrame.reset_index(inplace=True) #更新索引值\n",
    "\n",
    "\n",
    "#DataFrame"
   ]
  },
  {
   "cell_type": "code",
   "execution_count": 32,
   "metadata": {},
   "outputs": [
    {
     "name": "stdout",
     "output_type": "stream",
     "text": [
      "ok\n"
     ]
    }
   ],
   "source": [
    "def AvgBuyWeek(i):\n",
    "    global times #購買次數\n",
    "    global upDay #第一天\n",
    "    global nextDay #明天\n",
    "    global member #紀錄會員編號\n",
    "    global Interval #最後一天 - upDay\n",
    "    global temp #暫存值\n",
    "    global CAI\n",
    "    global count\n",
    "    up = DataFrame['會員編號'][i] \n",
    "    down = DataFrame['會員編號'][i+1]\n",
    "    if temp != up: #紀錄遇見不重複會員編號跳出\n",
    "        d1 = DataFrame['交易日期'][i]\n",
    "        d2 = DataFrame['交易日期'][i+1]\n",
    "        upDay = datetime.datetime(d1//10000,(d1%10000-d1%100)//100,d1%100)    \n",
    "        if up == down: #這筆和下一筆相同   \n",
    "            nextDay = datetime.datetime(d2//10000,(d2%10000-d2%100)//100,d2%100)\n",
    "            Interval += (nextDay-upDay).days #兩天相減加到Interval\n",
    "            times+=1\n",
    "            count += times\n",
    "            CAI += ((nextDay-upDay).days * times)\n",
    "            if times == 1: #紀錄第一天\n",
    "                lists['First time'].append(upDay)\n",
    "            AvgBuyWeek(i+1)      \n",
    "        else:\n",
    "            member = up\n",
    "            temp = member\n",
    "            if count != 0:\n",
    "                CAI = CAI / count\n",
    "                d3 = DataFrame['交易日期'][i-1]\n",
    "                SecondLastDay = datetime.datetime(d3//10000,(d3%10000-d3%100)//100,d3%100)    \n",
    "                lists['Second Last time'].append(SecondLastDay)\n",
    "print('ok')"
   ]
  },
  {
   "cell_type": "code",
   "execution_count": 33,
   "metadata": {},
   "outputs": [
    {
     "name": "stdout",
     "output_type": "stream",
     "text": [
      "1125764\n",
      "ok\n"
     ]
    }
   ],
   "source": [
    "upDay= 1\n",
    "nextDay = 1\n",
    "temp = ''\n",
    "lists = {'Member':[],'First time':[],'Second Last time':[],'Last time':[],'times':[],'Interval':[],'Interval/(times-1)':[],\n",
    "         'Last time - Second Last time':[],'R.T.':[],'CAI':[]}\n",
    "\n",
    "for i in DataFrame.shape:\n",
    "    j = i\n",
    "    break  \n",
    "print(j)\n",
    "\n",
    "for i in range(0,j-1):\n",
    "#for i in range(0,200):\n",
    "    times = 0\n",
    "    member = ''\n",
    "    Interval = 0\n",
    "    CAI = 0\n",
    "    count = 0\n",
    "    AvgBuyWeek(i)\n",
    "    if(times >= 1 and member!= '' and Interval >= 0 ): \n",
    "        lists['Member'].append(member)\n",
    "        lists['Interval/(times-1)'].append('%0.1f'%(Interval/times))            \n",
    "        lists['times'].append(times+1)\n",
    "        lists['Interval'].append(Interval)\n",
    "        lists['Last time'].append(nextDay)      \n",
    "        \n",
    "        a = len(lists['Last time'])-1\n",
    "        pk = (lists['Last time'][a] - lists['Second Last time'][a]).days\n",
    "        lists['Last time - Second Last time'].append(pk)\n",
    "        if lists['Interval/(times-1)'][a] == 0:\n",
    "            lists['R.T.'].append(0)\n",
    "            lists['CAI'].append(0)\n",
    "        else:\n",
    "            lists['R.T.'].append(lists['Last time - Second Last time'][a]/(float)(lists['Interval/(times-1)'][a]))\n",
    "            lists['CAI'].append(1-(CAI/(float)(lists['Interval/(times-1)'][a])))\n",
    "CAIAct = 0\n",
    "CAINor = 0\n",
    "CAISle = 0\n",
    "for j in range(len(lists['Member'])):\n",
    "    if lists['CAI'][j] > 0:\n",
    "        CAIAct += 1\n",
    "    elif lists['CAI'][j] == 0:\n",
    "        CAINor += 1\n",
    "    else:\n",
    "        CAISle += 1\n",
    "        \n",
    "print('ok')"
   ]
  },
  {
   "cell_type": "code",
   "execution_count": 34,
   "metadata": {},
   "outputs": [
    {
     "name": "stdout",
     "output_type": "stream",
     "text": [
      "ok\n"
     ]
    }
   ],
   "source": [
    "new = pd.DataFrame(lists)\n",
    "str1='客戶活躍度與購買週期圖_{0}.xlsx'.format(file[0:17])\n",
    "new.to_excel(str1,encoding='utf-8',index=False,columns=lists,sheet_name='客戶活躍度與購買週期圖')\n",
    "\n",
    "print('ok')"
   ]
  },
  {
   "cell_type": "code",
   "execution_count": 35,
   "metadata": {},
   "outputs": [
    {
     "name": "stdout",
     "output_type": "stream",
     "text": [
      "['客戶活躍度與購買週期圖', 'Statistics']\n"
     ]
    },
    {
     "name": "stderr",
     "output_type": "stream",
     "text": [
      "C:\\Users\\USER\\Anaconda3\\lib\\site-packages\\ipykernel_launcher.py:72: DeprecationWarning: Call to deprecated function get_sheet_names (Use wb.sheetnames).\n"
     ]
    }
   ],
   "source": [
    "import openpyxl\n",
    "from openpyxl import load_workbook\n",
    "from openpyxl.styles import colors, Font, Fill, NamedStyle\n",
    "from openpyxl.styles import PatternFill, Border, Side, Alignment\n",
    "wb=openpyxl.load_workbook(str1)\n",
    "TotalChooseMember = j\n",
    "\n",
    "#第一頁\n",
    "#wb.create_sheet(title='客戶活躍度與購買週期圖')\n",
    "page1 = wb['客戶活躍度與購買週期圖']\n",
    "\n",
    "sheet = wb.active\n",
    "\n",
    "redFill = PatternFill(start_color='F08080',end_color='F08080',fill_type='solid')\n",
    "yellowFill = PatternFill(start_color='FFF68F',end_color='FFF68F',fill_type='solid')\n",
    "blueFill = PatternFill(start_color='CAE1FF',end_color='CAE1FF',fill_type='solid')\n",
    "#CAI塗色\n",
    "for i in range(2,len(lists['CAI'])+2):\n",
    "    if sheet['J{0}'.format(i)].value > 0:\n",
    "        sheet['J{0}'.format(i)].fill = blueFill\n",
    "    elif sheet['J{0}'.format(i)].value == 0:\n",
    "        sheet['J{0}'.format(i)].fill = yellowFill\n",
    "    else:\n",
    "        sheet['J{0}'.format(i)].fill = redFill\n",
    "\n",
    "sheet['M1'] = '人數'\n",
    "sheet['N1'] = '百分比'\n",
    "\n",
    "sheet['L2'] = 'CAI>0'\n",
    "sheet['L2'].fill = blueFill\n",
    "sheet['M2'] = CAIAct             #人數\n",
    "temp = '%0.3f'%(CAIAct/TotalChooseMember*100) #%\n",
    "sheet['N2'] = '{0}%'.format(temp)\n",
    "\n",
    "\n",
    "sheet['L3'] = 'CAI=0'\n",
    "sheet['L3'].fill = yellowFill\n",
    "sheet['M3'] = CAINor\n",
    "temp = '%0.3f'%(CAINor/TotalChooseMember*100)\n",
    "sheet['N3'] ='{0}%'.format(temp)\n",
    "\n",
    "\n",
    "sheet['L4'] = 'CAI<0'\n",
    "sheet['L4'].fill = redFill\n",
    "sheet['M4'] = CAISle\n",
    "temp = '%0.3f'%(CAISle/TotalChooseMember*100)\n",
    "sheet['N4'] ='{0}%'.format(temp)\n",
    "\n",
    "sheet['M5'] = CAISle + CAIAct +CAINor\n",
    "temp = '%0.2f'%((CAISle + CAIAct +CAINor)/TotalChooseMember*100)\n",
    "sheet['N5'] ='{0}%'.format(temp)\n",
    "\n",
    "#///////////////////////////////////////////////////////////////////\n",
    "#第二頁\n",
    "wb.create_sheet(title='Statistics')\n",
    "page2 = wb['Statistics']\n",
    "bian = Side(style='medium',color='000000')\n",
    "border = Border(bottom=bian)\n",
    "page2.append(['Member','會員編號'])\n",
    "page2.append(['First time','會員第一次購買時間'])\n",
    "page2.append(['Last time','會員最後購買時間'])\n",
    "page2.append(['times','購買總次數'])\n",
    "page2.append(['Interval','Last time - First time，總天數'])\n",
    "page2.append(['Interval/(times-1)','平均幾天購買一次'])\n",
    "page2.append(['Last time - Second Last time','最後一天減倒數第二天'])\n",
    "page2.append(['R.T.','購物週期倍數 : (Last time - Second Last time)/Interval/(times-1)'])\n",
    "page2.append(['CAI','顧客活躍度 : 1-加權平均消費週期/平均消費週期'])\n",
    "#///////////////////////////////////////////////////////////////////\n",
    "\n",
    "wb.save(str1)\n",
    "wb.close()\n",
    "print(wb.get_sheet_names())"
   ]
  },
  {
   "cell_type": "code",
   "execution_count": null,
   "metadata": {},
   "outputs": [],
   "source": []
  },
  {
   "cell_type": "code",
   "execution_count": 38,
   "metadata": {},
   "outputs": [
    {
     "data": {
      "image/png": "[encoded data removed]",
      "text/plain": [
       "<Figure size 720x432 with 1 Axes>"
      ]
     },
     "metadata": {},
     "output_type": "display_data"
    }
   ],
   "source": [
    "import numpy as np\n",
    "import matplotlib.pyplot as plt\n",
    "\n",
    "plt.rcParams['font.sans-serif'] = ['Microsoft JhengHei']  #改正中文亂碼(來源:https://medium.com/marketingdatascience/%E8%A7%A3%E6%B1%BApython-3-matplotlib%E8%88%87seaborn%E8%A6%96%E8%A6%BA%E5%8C%96%E5%A5%97%E4%BB%B6%E4%B8%AD%E6%96%87%E9%A1%AF%E7%A4%BA%E5%95%8F%E9%A1%8C-f7b3773a889b)\n",
    "plt.rcParams['axes.unicode_minus'] = False\n",
    "# ==========================================\n",
    "# 圓的基本資訊\n",
    "# 1.圓半徑\n",
    "r = 10.0\n",
    "# 2.圓心座標\n",
    "a, b = (0., 0.)\n",
    "# ==========================================畫圓\n",
    "theta = np.arange(0, 2*np.pi, 0.01)\n",
    "x = a + r * np.cos(theta)\n",
    "y = b + r * np.sin(theta)\n",
    "x2= a + r * np.cos(theta)/2+5\n",
    "y2= b + r * np.sin(theta)/2\n",
    "x3= a + r * np.cos(theta)/4+7.5\n",
    "y3= b + r * np.sin(theta)/4 \n",
    "\n",
    "fig = plt.figure(figsize=(10,6))\n",
    "axes = fig.add_subplot(111)\n",
    "\n",
    "plt.fill(x,y,color='#DDDDDD') #填滿圓\n",
    "plt.text(-5,-1,'{0}'.format(234866), fontsize=10)\n",
    "axes.plot(x, y,label='總會員數(至少購買一次)',color='#DDDDDD')\n",
    "\n",
    "plt.fill(x2,y2,color='#D28EFF')\n",
    "plt.text(2,-1,'{0}\\n   {1}%'.format(j,'%0.3f'%(j/234866)), fontsize=10)\n",
    "axes.plot(x2, y2,label='有二次以上會員人數',color='#D28EFF')\n",
    "\n",
    "plt.fill(x3,y3,color='#FFC8B4')\n",
    "plt.text(6.7,-1,'{0}\\n   {1}%'.format(CAIAct,'%0.3f'%(CAIAct/234866)), fontsize=10)\n",
    "axes.plot(x3, y3,label='活耀會員人數(CAI>0)',color='#FFC8B4')\n",
    "\n",
    "plt.title(r\"資料時間({0})\".format(file[0:17]))\n",
    "axes.axis('equal')\n",
    "# ==========================================\n",
    "\n",
    "# ==========================================\n",
    "plt.xticks([]) #去座標\n",
    "plt.yticks([])\n",
    "plt.legend()\n",
    "plt.savefig('蛋黃圖{0}.png'.format(file[0:17], dpi=400))\n",
    "plt.show()"
   ]
  },
  {
   "cell_type": "code",
   "execution_count": null,
   "metadata": {},
   "outputs": [],
   "source": []
  }
 ],
 "metadata": {
  "kernelspec": {
   "display_name": "Python 3",
   "language": "python",
   "name": "python3"
  },
  "language_info": {
   "codemirror_mode": {
    "name": "ipython",
    "version": 3
   },
   "file_extension": ".py",
   "mimetype": "text/x-python",
   "name": "python",
   "nbconvert_exporter": "python",
   "pygments_lexer": "ipython3",
   "version": "3.6.4"
  }
 },
 "nbformat": 4,
 "nbformat_minor": 2
}
